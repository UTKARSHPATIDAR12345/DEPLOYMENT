{
  "nbformat": 4,
  "nbformat_minor": 0,
  "metadata": {
    "colab": {
      "name": "Internship_project",
      "provenance": [],
      "collapsed_sections": [],
      "authorship_tag": "ABX9TyO4HHQ1Pose5ejIanL7vH0X",
      "include_colab_link": true
    },
    "kernelspec": {
      "name": "python3",
      "display_name": "Python 3"
    }
  },
  "cells": [
    {
      "cell_type": "markdown",
      "metadata": {
        "id": "view-in-github",
        "colab_type": "text"
      },
      "source": [
        "<a href=\"https://colab.research.google.com/github/UTKARSHPATIDAR12345/DEPLOYMENT/blob/master/Internship_project.ipynb\" target=\"_parent\"><img src=\"https://colab.research.google.com/assets/colab-badge.svg\" alt=\"Open In Colab\"/></a>"
      ]
    },
    {
      "cell_type": "code",
      "metadata": {
        "id": "gqxSLT1Kyjec",
        "colab_type": "code",
        "colab": {}
      },
      "source": [
        "import numpy as np \n",
        "import pandas as pd"
      ],
      "execution_count": 2,
      "outputs": []
    },
    {
      "cell_type": "markdown",
      "metadata": {
        "id": "lhjPs66VBUw_",
        "colab_type": "text"
      },
      "source": [
        "IMPORTING THE LIBRARIES WHICH MAKE THE BASE FOR THE MATHS BEHIND THE SCENES"
      ]
    },
    {
      "cell_type": "code",
      "metadata": {
        "id": "gslnGbJi0Vy_",
        "colab_type": "code",
        "colab": {
          "base_uri": "https://localhost:8080/",
          "height": 241
        },
        "outputId": "6ac5b3fe-ba17-454f-892e-be05dacaf559"
      },
      "source": [
        "dataset=pd.read_excel('/content/Bank_Personal_Loan_Modelling 1.xlsx')\n",
        "dataset.head()"
      ],
      "execution_count": 3,
      "outputs": [
        {
          "output_type": "execute_result",
          "data": {
            "text/html": [
              "<div>\n",
              "<style scoped>\n",
              "    .dataframe tbody tr th:only-of-type {\n",
              "        vertical-align: middle;\n",
              "    }\n",
              "\n",
              "    .dataframe tbody tr th {\n",
              "        vertical-align: top;\n",
              "    }\n",
              "\n",
              "    .dataframe thead th {\n",
              "        text-align: right;\n",
              "    }\n",
              "</style>\n",
              "<table border=\"1\" class=\"dataframe\">\n",
              "  <thead>\n",
              "    <tr style=\"text-align: right;\">\n",
              "      <th></th>\n",
              "      <th>ID</th>\n",
              "      <th>Age</th>\n",
              "      <th>Experience</th>\n",
              "      <th>Income</th>\n",
              "      <th>ZIP Code</th>\n",
              "      <th>Family</th>\n",
              "      <th>CCAvg</th>\n",
              "      <th>Education</th>\n",
              "      <th>Mortgage</th>\n",
              "      <th>PersonalLoan</th>\n",
              "      <th>Securities Account</th>\n",
              "      <th>CD Account</th>\n",
              "      <th>Online</th>\n",
              "      <th>CreditCard</th>\n",
              "    </tr>\n",
              "  </thead>\n",
              "  <tbody>\n",
              "    <tr>\n",
              "      <th>0</th>\n",
              "      <td>1</td>\n",
              "      <td>25</td>\n",
              "      <td>1</td>\n",
              "      <td>49</td>\n",
              "      <td>91107</td>\n",
              "      <td>4</td>\n",
              "      <td>1.6</td>\n",
              "      <td>1</td>\n",
              "      <td>0</td>\n",
              "      <td>0</td>\n",
              "      <td>1</td>\n",
              "      <td>0</td>\n",
              "      <td>0</td>\n",
              "      <td>0</td>\n",
              "    </tr>\n",
              "    <tr>\n",
              "      <th>1</th>\n",
              "      <td>2</td>\n",
              "      <td>45</td>\n",
              "      <td>19</td>\n",
              "      <td>34</td>\n",
              "      <td>90089</td>\n",
              "      <td>3</td>\n",
              "      <td>1.5</td>\n",
              "      <td>1</td>\n",
              "      <td>0</td>\n",
              "      <td>0</td>\n",
              "      <td>1</td>\n",
              "      <td>0</td>\n",
              "      <td>0</td>\n",
              "      <td>0</td>\n",
              "    </tr>\n",
              "    <tr>\n",
              "      <th>2</th>\n",
              "      <td>3</td>\n",
              "      <td>39</td>\n",
              "      <td>15</td>\n",
              "      <td>11</td>\n",
              "      <td>94720</td>\n",
              "      <td>1</td>\n",
              "      <td>1.0</td>\n",
              "      <td>1</td>\n",
              "      <td>0</td>\n",
              "      <td>0</td>\n",
              "      <td>0</td>\n",
              "      <td>0</td>\n",
              "      <td>0</td>\n",
              "      <td>0</td>\n",
              "    </tr>\n",
              "    <tr>\n",
              "      <th>3</th>\n",
              "      <td>4</td>\n",
              "      <td>35</td>\n",
              "      <td>9</td>\n",
              "      <td>100</td>\n",
              "      <td>94112</td>\n",
              "      <td>1</td>\n",
              "      <td>2.7</td>\n",
              "      <td>2</td>\n",
              "      <td>0</td>\n",
              "      <td>0</td>\n",
              "      <td>0</td>\n",
              "      <td>0</td>\n",
              "      <td>0</td>\n",
              "      <td>0</td>\n",
              "    </tr>\n",
              "    <tr>\n",
              "      <th>4</th>\n",
              "      <td>5</td>\n",
              "      <td>35</td>\n",
              "      <td>8</td>\n",
              "      <td>45</td>\n",
              "      <td>91330</td>\n",
              "      <td>4</td>\n",
              "      <td>1.0</td>\n",
              "      <td>2</td>\n",
              "      <td>0</td>\n",
              "      <td>0</td>\n",
              "      <td>0</td>\n",
              "      <td>0</td>\n",
              "      <td>0</td>\n",
              "      <td>1</td>\n",
              "    </tr>\n",
              "  </tbody>\n",
              "</table>\n",
              "</div>"
            ],
            "text/plain": [
              "   ID  Age  Experience  ...  CD Account  Online  CreditCard\n",
              "0   1   25           1  ...           0       0           0\n",
              "1   2   45          19  ...           0       0           0\n",
              "2   3   39          15  ...           0       0           0\n",
              "3   4   35           9  ...           0       0           0\n",
              "4   5   35           8  ...           0       0           1\n",
              "\n",
              "[5 rows x 14 columns]"
            ]
          },
          "metadata": {
            "tags": []
          },
          "execution_count": 3
        }
      ]
    },
    {
      "cell_type": "markdown",
      "metadata": {
        "id": "G53FUa8W_w2y",
        "colab_type": "text"
      },
      "source": [
        "***NOTE:-Here i have made some changes in the coloumn name such as personal loan because of some issues so please refer the excel sheet that i have attached below along with the project for getting error free analysis of my code.***"
      ]
    },
    {
      "cell_type": "markdown",
      "metadata": {
        "id": "IAx0EaHxBlka",
        "colab_type": "text"
      },
      "source": [
        "READING THE CONTENTS FROM THE FILES"
      ]
    },
    {
      "cell_type": "markdown",
      "metadata": {
        "id": "b4n64MWjiSUM",
        "colab_type": "text"
      },
      "source": [
        "On the dataset\n",
        "The file given below contains data on 5000 customers. The data include customer demographic information (age, income, etc.), the customer's relationship with the bank (mortgage, securities account, etc.), and the customer response to the last personal loan campaign (Personal Loan). Among these 5000 customers, only 480 (= 9.6%) accepted the personal loan that was offered to them in the earlier campaign"
      ]
    },
    {
      "cell_type": "code",
      "metadata": {
        "id": "_X1QdfjL1DCo",
        "colab_type": "code",
        "colab": {
          "base_uri": "https://localhost:8080/",
          "height": 34
        },
        "outputId": "bbb0c028-9bba-438a-863c-0e2493809faf"
      },
      "source": [
        "dataset.shape"
      ],
      "execution_count": 4,
      "outputs": [
        {
          "output_type": "execute_result",
          "data": {
            "text/plain": [
              "(5000, 14)"
            ]
          },
          "metadata": {
            "tags": []
          },
          "execution_count": 4
        }
      ]
    },
    {
      "cell_type": "markdown",
      "metadata": {
        "id": "JH3hj9DcBrBo",
        "colab_type": "text"
      },
      "source": [
        "SHAPE ANALYSIS PART OF THE DATA"
      ]
    },
    {
      "cell_type": "code",
      "metadata": {
        "id": "rQMQ2RZ21hkm",
        "colab_type": "code",
        "colab": {
          "base_uri": "https://localhost:8080/",
          "height": 71
        },
        "outputId": "5519f820-e88d-453a-c355-4e090fc77507"
      },
      "source": [
        "import pandas as pd\n",
        "import numpy as np\n",
        "import matplotlib.pyplot as plot\n",
        "import seaborn as sns\n",
        "%matplotlib inline\n",
        "sns.set(style=\"ticks\")\n",
        "\n",
        "from scipy.stats import zscore\n",
        "from sklearn import tree\n",
        "from sklearn.tree import DecisionTreeClassifier\n",
        "from sklearn.ensemble import BaggingClassifier\n",
        "from sklearn.feature_extraction.text import CountVectorizer\n",
        "from sklearn.naive_bayes import GaussianNB\n",
        "from sklearn.ensemble import RandomForestClassifier\n",
        "from sklearn.ensemble import BaggingClassifier, RandomForestClassifier\n",
        "from sklearn.neighbors import KNeighborsClassifier\n",
        "from sklearn import model_selection"
      ],
      "execution_count": 5,
      "outputs": [
        {
          "output_type": "stream",
          "text": [
            "/usr/local/lib/python3.6/dist-packages/statsmodels/tools/_testing.py:19: FutureWarning: pandas.util.testing is deprecated. Use the functions in the public API at pandas.testing instead.\n",
            "  import pandas.util.testing as tm\n"
          ],
          "name": "stderr"
        }
      ]
    },
    {
      "cell_type": "markdown",
      "metadata": {
        "id": "VLgoy5N8BzRo",
        "colab_type": "text"
      },
      "source": [
        "IMPORTING ALL THE LIBRARIES REQUIRED"
      ]
    },
    {
      "cell_type": "code",
      "metadata": {
        "id": "GMY-3Nbd1rFc",
        "colab_type": "code",
        "colab": {
          "base_uri": "https://localhost:8080/",
          "height": 374
        },
        "outputId": "6a36533c-c645-4e67-f6af-4d923e0161bc"
      },
      "source": [
        "dataset.info()"
      ],
      "execution_count": 6,
      "outputs": [
        {
          "output_type": "stream",
          "text": [
            "<class 'pandas.core.frame.DataFrame'>\n",
            "RangeIndex: 5000 entries, 0 to 4999\n",
            "Data columns (total 14 columns):\n",
            " #   Column              Non-Null Count  Dtype  \n",
            "---  ------              --------------  -----  \n",
            " 0   ID                  5000 non-null   int64  \n",
            " 1   Age                 5000 non-null   int64  \n",
            " 2   Experience          5000 non-null   int64  \n",
            " 3   Income              5000 non-null   int64  \n",
            " 4   ZIP Code            5000 non-null   int64  \n",
            " 5   Family              5000 non-null   int64  \n",
            " 6   CCAvg               5000 non-null   float64\n",
            " 7   Education           5000 non-null   int64  \n",
            " 8   Mortgage            5000 non-null   int64  \n",
            " 9   PersonalLoan        5000 non-null   int64  \n",
            " 10  Securities Account  5000 non-null   int64  \n",
            " 11  CD Account          5000 non-null   int64  \n",
            " 12  Online              5000 non-null   int64  \n",
            " 13  CreditCard          5000 non-null   int64  \n",
            "dtypes: float64(1), int64(13)\n",
            "memory usage: 547.0 KB\n"
          ],
          "name": "stdout"
        }
      ]
    },
    {
      "cell_type": "markdown",
      "metadata": {
        "id": "WXuAjVAvB8Zk",
        "colab_type": "text"
      },
      "source": [
        "DATA TYPE CHECKING"
      ]
    },
    {
      "cell_type": "code",
      "metadata": {
        "id": "IBgsZDWR2OHI",
        "colab_type": "code",
        "colab": {
          "base_uri": "https://localhost:8080/",
          "height": 272
        },
        "outputId": "3ae890da-366b-4bc6-9946-9a123487de3a"
      },
      "source": [
        "dataset.apply(lambda x : sum(x.isnull()))"
      ],
      "execution_count": 7,
      "outputs": [
        {
          "output_type": "execute_result",
          "data": {
            "text/plain": [
              "ID                    0\n",
              "Age                   0\n",
              "Experience            0\n",
              "Income                0\n",
              "ZIP Code              0\n",
              "Family                0\n",
              "CCAvg                 0\n",
              "Education             0\n",
              "Mortgage              0\n",
              "PersonalLoan          0\n",
              "Securities Account    0\n",
              "CD Account            0\n",
              "Online                0\n",
              "CreditCard            0\n",
              "dtype: int64"
            ]
          },
          "metadata": {
            "tags": []
          },
          "execution_count": 7
        }
      ]
    },
    {
      "cell_type": "code",
      "metadata": {
        "id": "G6gxSNc92Tj0",
        "colab_type": "code",
        "colab": {
          "base_uri": "https://localhost:8080/",
          "height": 483
        },
        "outputId": "67cc5213-b748-41d2-fad0-ecc9a9ec742e"
      },
      "source": [
        "dataset.describe().transpose()\n"
      ],
      "execution_count": 8,
      "outputs": [
        {
          "output_type": "execute_result",
          "data": {
            "text/html": [
              "<div>\n",
              "<style scoped>\n",
              "    .dataframe tbody tr th:only-of-type {\n",
              "        vertical-align: middle;\n",
              "    }\n",
              "\n",
              "    .dataframe tbody tr th {\n",
              "        vertical-align: top;\n",
              "    }\n",
              "\n",
              "    .dataframe thead th {\n",
              "        text-align: right;\n",
              "    }\n",
              "</style>\n",
              "<table border=\"1\" class=\"dataframe\">\n",
              "  <thead>\n",
              "    <tr style=\"text-align: right;\">\n",
              "      <th></th>\n",
              "      <th>count</th>\n",
              "      <th>mean</th>\n",
              "      <th>std</th>\n",
              "      <th>min</th>\n",
              "      <th>25%</th>\n",
              "      <th>50%</th>\n",
              "      <th>75%</th>\n",
              "      <th>max</th>\n",
              "    </tr>\n",
              "  </thead>\n",
              "  <tbody>\n",
              "    <tr>\n",
              "      <th>ID</th>\n",
              "      <td>5000.0</td>\n",
              "      <td>2500.500000</td>\n",
              "      <td>1443.520003</td>\n",
              "      <td>1.0</td>\n",
              "      <td>1250.75</td>\n",
              "      <td>2500.5</td>\n",
              "      <td>3750.25</td>\n",
              "      <td>5000.0</td>\n",
              "    </tr>\n",
              "    <tr>\n",
              "      <th>Age</th>\n",
              "      <td>5000.0</td>\n",
              "      <td>45.338400</td>\n",
              "      <td>11.463166</td>\n",
              "      <td>23.0</td>\n",
              "      <td>35.00</td>\n",
              "      <td>45.0</td>\n",
              "      <td>55.00</td>\n",
              "      <td>67.0</td>\n",
              "    </tr>\n",
              "    <tr>\n",
              "      <th>Experience</th>\n",
              "      <td>5000.0</td>\n",
              "      <td>20.104600</td>\n",
              "      <td>11.467954</td>\n",
              "      <td>-3.0</td>\n",
              "      <td>10.00</td>\n",
              "      <td>20.0</td>\n",
              "      <td>30.00</td>\n",
              "      <td>43.0</td>\n",
              "    </tr>\n",
              "    <tr>\n",
              "      <th>Income</th>\n",
              "      <td>5000.0</td>\n",
              "      <td>73.774200</td>\n",
              "      <td>46.033729</td>\n",
              "      <td>8.0</td>\n",
              "      <td>39.00</td>\n",
              "      <td>64.0</td>\n",
              "      <td>98.00</td>\n",
              "      <td>224.0</td>\n",
              "    </tr>\n",
              "    <tr>\n",
              "      <th>ZIP Code</th>\n",
              "      <td>5000.0</td>\n",
              "      <td>93152.503000</td>\n",
              "      <td>2121.852197</td>\n",
              "      <td>9307.0</td>\n",
              "      <td>91911.00</td>\n",
              "      <td>93437.0</td>\n",
              "      <td>94608.00</td>\n",
              "      <td>96651.0</td>\n",
              "    </tr>\n",
              "    <tr>\n",
              "      <th>Family</th>\n",
              "      <td>5000.0</td>\n",
              "      <td>2.396400</td>\n",
              "      <td>1.147663</td>\n",
              "      <td>1.0</td>\n",
              "      <td>1.00</td>\n",
              "      <td>2.0</td>\n",
              "      <td>3.00</td>\n",
              "      <td>4.0</td>\n",
              "    </tr>\n",
              "    <tr>\n",
              "      <th>CCAvg</th>\n",
              "      <td>5000.0</td>\n",
              "      <td>1.937913</td>\n",
              "      <td>1.747666</td>\n",
              "      <td>0.0</td>\n",
              "      <td>0.70</td>\n",
              "      <td>1.5</td>\n",
              "      <td>2.50</td>\n",
              "      <td>10.0</td>\n",
              "    </tr>\n",
              "    <tr>\n",
              "      <th>Education</th>\n",
              "      <td>5000.0</td>\n",
              "      <td>1.881000</td>\n",
              "      <td>0.839869</td>\n",
              "      <td>1.0</td>\n",
              "      <td>1.00</td>\n",
              "      <td>2.0</td>\n",
              "      <td>3.00</td>\n",
              "      <td>3.0</td>\n",
              "    </tr>\n",
              "    <tr>\n",
              "      <th>Mortgage</th>\n",
              "      <td>5000.0</td>\n",
              "      <td>56.498800</td>\n",
              "      <td>101.713802</td>\n",
              "      <td>0.0</td>\n",
              "      <td>0.00</td>\n",
              "      <td>0.0</td>\n",
              "      <td>101.00</td>\n",
              "      <td>635.0</td>\n",
              "    </tr>\n",
              "    <tr>\n",
              "      <th>PersonalLoan</th>\n",
              "      <td>5000.0</td>\n",
              "      <td>0.096000</td>\n",
              "      <td>0.294621</td>\n",
              "      <td>0.0</td>\n",
              "      <td>0.00</td>\n",
              "      <td>0.0</td>\n",
              "      <td>0.00</td>\n",
              "      <td>1.0</td>\n",
              "    </tr>\n",
              "    <tr>\n",
              "      <th>Securities Account</th>\n",
              "      <td>5000.0</td>\n",
              "      <td>0.104400</td>\n",
              "      <td>0.305809</td>\n",
              "      <td>0.0</td>\n",
              "      <td>0.00</td>\n",
              "      <td>0.0</td>\n",
              "      <td>0.00</td>\n",
              "      <td>1.0</td>\n",
              "    </tr>\n",
              "    <tr>\n",
              "      <th>CD Account</th>\n",
              "      <td>5000.0</td>\n",
              "      <td>0.060400</td>\n",
              "      <td>0.238250</td>\n",
              "      <td>0.0</td>\n",
              "      <td>0.00</td>\n",
              "      <td>0.0</td>\n",
              "      <td>0.00</td>\n",
              "      <td>1.0</td>\n",
              "    </tr>\n",
              "    <tr>\n",
              "      <th>Online</th>\n",
              "      <td>5000.0</td>\n",
              "      <td>0.596800</td>\n",
              "      <td>0.490589</td>\n",
              "      <td>0.0</td>\n",
              "      <td>0.00</td>\n",
              "      <td>1.0</td>\n",
              "      <td>1.00</td>\n",
              "      <td>1.0</td>\n",
              "    </tr>\n",
              "    <tr>\n",
              "      <th>CreditCard</th>\n",
              "      <td>5000.0</td>\n",
              "      <td>0.294000</td>\n",
              "      <td>0.455637</td>\n",
              "      <td>0.0</td>\n",
              "      <td>0.00</td>\n",
              "      <td>0.0</td>\n",
              "      <td>1.00</td>\n",
              "      <td>1.0</td>\n",
              "    </tr>\n",
              "  </tbody>\n",
              "</table>\n",
              "</div>"
            ],
            "text/plain": [
              "                     count          mean  ...       75%      max\n",
              "ID                  5000.0   2500.500000  ...   3750.25   5000.0\n",
              "Age                 5000.0     45.338400  ...     55.00     67.0\n",
              "Experience          5000.0     20.104600  ...     30.00     43.0\n",
              "Income              5000.0     73.774200  ...     98.00    224.0\n",
              "ZIP Code            5000.0  93152.503000  ...  94608.00  96651.0\n",
              "Family              5000.0      2.396400  ...      3.00      4.0\n",
              "CCAvg               5000.0      1.937913  ...      2.50     10.0\n",
              "Education           5000.0      1.881000  ...      3.00      3.0\n",
              "Mortgage            5000.0     56.498800  ...    101.00    635.0\n",
              "PersonalLoan        5000.0      0.096000  ...      0.00      1.0\n",
              "Securities Account  5000.0      0.104400  ...      0.00      1.0\n",
              "CD Account          5000.0      0.060400  ...      0.00      1.0\n",
              "Online              5000.0      0.596800  ...      1.00      1.0\n",
              "CreditCard          5000.0      0.294000  ...      1.00      1.0\n",
              "\n",
              "[14 rows x 8 columns]"
            ]
          },
          "metadata": {
            "tags": []
          },
          "execution_count": 8
        }
      ]
    },
    {
      "cell_type": "markdown",
      "metadata": {
        "id": "mQzkrVuBCIxA",
        "colab_type": "text"
      },
      "source": [
        "STATISTICAL SUMMARY OF THE DATA"
      ]
    },
    {
      "cell_type": "code",
      "metadata": {
        "id": "ikRBJIIT2ZHZ",
        "colab_type": "code",
        "colab": {
          "base_uri": "https://localhost:8080/",
          "height": 272
        },
        "outputId": "10f89ad1-f20f-4c0c-b497-840cc1085fe5"
      },
      "source": [
        "dataset.apply(lambda x: len(x.unique()))\n"
      ],
      "execution_count": 9,
      "outputs": [
        {
          "output_type": "execute_result",
          "data": {
            "text/plain": [
              "ID                    5000\n",
              "Age                     45\n",
              "Experience              47\n",
              "Income                 162\n",
              "ZIP Code               467\n",
              "Family                   4\n",
              "CCAvg                  108\n",
              "Education                3\n",
              "Mortgage               347\n",
              "PersonalLoan             2\n",
              "Securities Account       2\n",
              "CD Account               2\n",
              "Online                   2\n",
              "CreditCard               2\n",
              "dtype: int64"
            ]
          },
          "metadata": {
            "tags": []
          },
          "execution_count": 9
        }
      ]
    },
    {
      "cell_type": "code",
      "metadata": {
        "id": "Boa-l4D9igAI",
        "colab_type": "code",
        "colab": {
          "base_uri": "https://localhost:8080/",
          "height": 85
        },
        "outputId": "79687cf9-918f-4c7b-eda4-80028d0f09cf"
      },
      "source": [
        "dataset.columns"
      ],
      "execution_count": 10,
      "outputs": [
        {
          "output_type": "execute_result",
          "data": {
            "text/plain": [
              "Index(['ID', 'Age', 'Experience', 'Income', 'ZIP Code', 'Family', 'CCAvg',\n",
              "       'Education', 'Mortgage', 'PersonalLoan', 'Securities Account',\n",
              "       'CD Account', 'Online', 'CreditCard'],\n",
              "      dtype='object')"
            ]
          },
          "metadata": {
            "tags": []
          },
          "execution_count": 10
        }
      ]
    },
    {
      "cell_type": "markdown",
      "metadata": {
        "id": "u39vbr5lintY",
        "colab_type": "text"
      },
      "source": [
        "Information on the features or attributes\n",
        "The attributes can be divided accordingly :\n",
        "\n",
        "The variable ID does not add any interesting information. There is no association between a person's customer ID and loan, also it does not provide any general conclusion for future potential loan customers. We can neglect this information for our model prediction.\n",
        "The binary category have five variables as below:\n",
        "\n",
        "Personal Loan - Did this customer accept the personal loan offered in the last campaign? This is our target variable\n",
        "Securities Account - Does the customer have a securities account with the bank?\n",
        "CD Account - Does the customer have a certificate of deposit (CD) account with the bank?\n",
        "Online - Does the customer use internet banking facilities?\n",
        "Credit Card - Does the customer use a credit card issued by UniversalBank?\n",
        "Interval variables are as below:\n",
        "\n",
        "1 Age - Age of the customer\n",
        "2 Experience - Years of experience\n",
        "3 Income - Annual income in dollars\n",
        "4 CCAvg - Average credit card spending\n",
        "5 Mortage - Value of House Mortgage\n",
        "6 Ordinal Categorical Variables are:\n",
        "\n",
        "1 Family - Family size of the customer\n",
        "2 Education - education level of the customer\n",
        "The nominal variable is :\n",
        "\n",
        "1 ID\n",
        "2 Zip Code"
      ]
    },
    {
      "cell_type": "markdown",
      "metadata": {
        "id": "hUjADBRTio1p",
        "colab_type": "text"
      },
      "source": [
        ""
      ]
    },
    {
      "cell_type": "code",
      "metadata": {
        "id": "sSOC6HKG2u1B",
        "colab_type": "code",
        "colab": {
          "base_uri": "https://localhost:8080/",
          "height": 34
        },
        "outputId": "d2a4703e-8f4e-4a20-c5ba-ac781c69366f"
      },
      "source": [
        "dataset[dataset['Experience'] < 0]['Experience'].count()\n"
      ],
      "execution_count": 11,
      "outputs": [
        {
          "output_type": "execute_result",
          "data": {
            "text/plain": [
              "52"
            ]
          },
          "metadata": {
            "tags": []
          },
          "execution_count": 11
        }
      ]
    },
    {
      "cell_type": "markdown",
      "metadata": {
        "id": "kYf7BUR0CXi1",
        "colab_type": "text"
      },
      "source": [
        "CLEANING PROCESS CHECK FOR THE VARIABLES"
      ]
    },
    {
      "cell_type": "markdown",
      "metadata": {
        "id": "hUsaPcCFj52F",
        "colab_type": "text"
      },
      "source": [
        "\n",
        "\n",
        "1.   Age feature is normally distributed with majority of customers falling between 30 years and 60 years of age. We can confirm this by looking at the describe statement above, which shows mean is almost equal to median\n",
        "2.   Experience is normally distributed with more customer having experience starting from 8 years. Here the mean is equal to median. There are negative values in the Experience. This could be a data input error as in general it is not possible to measure negative years of experience. We can delete these values, because we have 3 or 4 records from the sample.\n",
        "3.Income is positively skewed. Majority of the customers have income between 45K and 55K. We can confirm this by saying the mean is greater than the median\n",
        "4.CCAvg is also a positively skewed variable and average spending is between 0K to 10K and majority spends less than 2.5K.\n",
        "5.Mortgage 70% of the individuals have a mortgage of less than 40K. However the max value is 635K.\n",
        "6The variables family and education are ordinal variables. The distribution of families is evenly distributes.\n",
        "\n",
        "\n",
        "\n"
      ]
    },
    {
      "cell_type": "code",
      "metadata": {
        "id": "iGoHoVWEslJs",
        "colab_type": "code",
        "colab": {}
      },
      "source": [
        "#clean the negative variable\n",
        "dfExp = dataset.loc[dataset['Experience'] >0]\n",
        "negExp = dataset.Experience < 0\n",
        "column_name = 'Experience'\n",
        "mylist = dataset.loc[negExp]['ID'].tolist() # getting the customer ID who has negative experience"
      ],
      "execution_count": 12,
      "outputs": []
    },
    {
      "cell_type": "code",
      "metadata": {
        "id": "7faIzJHMs_KK",
        "colab_type": "code",
        "colab": {
          "base_uri": "https://localhost:8080/",
          "height": 68
        },
        "outputId": "a436509c-855a-4e47-a2e9-eda0984ceec4"
      },
      "source": [
        "negExp.value_counts()"
      ],
      "execution_count": 13,
      "outputs": [
        {
          "output_type": "execute_result",
          "data": {
            "text/plain": [
              "False    4948\n",
              "True       52\n",
              "Name: Experience, dtype: int64"
            ]
          },
          "metadata": {
            "tags": []
          },
          "execution_count": 13
        }
      ]
    },
    {
      "cell_type": "markdown",
      "metadata": {
        "id": "d4tsVQ-IxNrV",
        "colab_type": "text"
      },
      "source": [
        "The following code does the below steps:\n",
        "\n",
        "1. For the record with the ID, get the value of Age column\n",
        "2. For the record with the ID, get the value of Education column\n",
        "3. Filter the records matching the above criteria from the data frame which has records with positive experience and take the median\n",
        "4. Apply the median back to the location which had negative experience"
      ]
    },
    {
      "cell_type": "code",
      "metadata": {
        "id": "10cDU6l3tCdY",
        "colab_type": "code",
        "colab": {}
      },
      "source": [
        "for id in mylist:\n",
        "    age = dataset.loc[np.where(dataset['ID']==id)][\"Age\"].tolist()[0]\n",
        "    education = dataset.loc[np.where(dataset['ID']==id)][\"Education\"].tolist()[0]\n",
        "    df_filtered = dfExp[(dfExp.Age == age) & (dfExp.Education == education)]\n",
        "    exp = df_filtered['Experience'].median()\n",
        "    dataset.loc[dataset.loc[np.where(dataset['ID']==id)].index, 'Experience'] = exp"
      ],
      "execution_count": 14,
      "outputs": []
    },
    {
      "cell_type": "code",
      "metadata": {
        "id": "iFQZlbjttOBT",
        "colab_type": "code",
        "colab": {
          "base_uri": "https://localhost:8080/",
          "height": 34
        },
        "outputId": "4eb09463-b97a-4774-8081-72855919d7bc"
      },
      "source": [
        "# checking if there are records with negative experience\n",
        "dataset[dataset['Experience'] < 0]['Experience'].count()"
      ],
      "execution_count": null,
      "outputs": [
        {
          "output_type": "execute_result",
          "data": {
            "text/plain": [
              "0"
            ]
          },
          "metadata": {
            "tags": []
          },
          "execution_count": 14
        }
      ]
    },
    {
      "cell_type": "code",
      "metadata": {
        "id": "luh-bVIP_kLd",
        "colab_type": "code",
        "colab": {
          "base_uri": "https://localhost:8080/",
          "height": 34
        },
        "outputId": "73cbc14f-fa3b-450f-b069-d505e7f55973"
      },
      "source": [
        "dataset[dataset['Income'] < 0]['Income'].count()\n"
      ],
      "execution_count": 15,
      "outputs": [
        {
          "output_type": "execute_result",
          "data": {
            "text/plain": [
              "0"
            ]
          },
          "metadata": {
            "tags": []
          },
          "execution_count": 15
        }
      ]
    },
    {
      "cell_type": "code",
      "metadata": {
        "id": "vbLf14Ug_1EZ",
        "colab_type": "code",
        "colab": {}
      },
      "source": [
        "dataset.dropna(inplace=True)"
      ],
      "execution_count": 16,
      "outputs": []
    },
    {
      "cell_type": "code",
      "metadata": {
        "id": "jCt2_RXfAI1b",
        "colab_type": "code",
        "colab": {
          "base_uri": "https://localhost:8080/",
          "height": 34
        },
        "outputId": "aa4fd63d-9745-4dcd-e660-b6e5dc506058"
      },
      "source": [
        "dataset[dataset['Securities Account'] < 0]['Securities Account'].count()"
      ],
      "execution_count": 17,
      "outputs": [
        {
          "output_type": "execute_result",
          "data": {
            "text/plain": [
              "0"
            ]
          },
          "metadata": {
            "tags": []
          },
          "execution_count": 17
        }
      ]
    },
    {
      "cell_type": "code",
      "metadata": {
        "id": "ItMreWKnHYmD",
        "colab_type": "code",
        "colab": {
          "base_uri": "https://localhost:8080/",
          "height": 34
        },
        "outputId": "67be2a4d-3fb3-4678-9975-899b0240ff83"
      },
      "source": [
        "dataset[dataset['Mortgage'] == 0]['Mortgage'].count()"
      ],
      "execution_count": 18,
      "outputs": [
        {
          "output_type": "execute_result",
          "data": {
            "text/plain": [
              "3439"
            ]
          },
          "metadata": {
            "tags": []
          },
          "execution_count": 18
        }
      ]
    },
    {
      "cell_type": "markdown",
      "metadata": {
        "id": "BXycf6NDHi0J",
        "colab_type": "text"
      },
      "source": [
        "NUMBER OF PEOPLE WITH ZERO MORTGAGE"
      ]
    },
    {
      "cell_type": "code",
      "metadata": {
        "id": "72MFoIy4Hw8d",
        "colab_type": "code",
        "colab": {
          "base_uri": "https://localhost:8080/",
          "height": 34
        },
        "outputId": "d4eac0f9-b003-46d0-dff1-7c0902a85250"
      },
      "source": [
        "dataset[dataset['CCAvg'] == 0]['CCAvg'].count()"
      ],
      "execution_count": 19,
      "outputs": [
        {
          "output_type": "execute_result",
          "data": {
            "text/plain": [
              "106"
            ]
          },
          "metadata": {
            "tags": []
          },
          "execution_count": 19
        }
      ]
    },
    {
      "cell_type": "markdown",
      "metadata": {
        "id": "yVxDv8OyCke9",
        "colab_type": "text"
      },
      "source": [
        "STATISTICAL VERIFICATION OF CLEANING PART"
      ]
    },
    {
      "cell_type": "markdown",
      "metadata": {
        "id": "utey9gZQkhdH",
        "colab_type": "text"
      },
      "source": [
        "Observation : It seems the customers whose education level is 1 is having more income. However customers who has taken the personal loan have the same income levels"
      ]
    },
    {
      "cell_type": "markdown",
      "metadata": {
        "id": "5zusOBfaksmd",
        "colab_type": "text"
      },
      "source": [
        "Inference : From the above chart it seems that customer who do not have personal loan and customer who has personal loan have high mortgage"
      ]
    },
    {
      "cell_type": "markdown",
      "metadata": {
        "id": "CnGN4f6mk3dM",
        "colab_type": "text"
      },
      "source": [
        "Observation : Majority of customers who does not have loan have securities account"
      ]
    },
    {
      "cell_type": "markdown",
      "metadata": {
        "id": "O4zRQ7phk-I_",
        "colab_type": "text"
      },
      "source": [
        "Observation: Family size does not have any impact in personal loan. But it seems families with size of 3 are more likely to take loan. When considering future campaign this might be good association."
      ]
    },
    {
      "cell_type": "markdown",
      "metadata": {
        "id": "qfnX5VUOlPDY",
        "colab_type": "text"
      },
      "source": [
        "Observation: Customers who does not have CD account , does not have loan as well. This seems to be majority. But almost all customers who has CD account has loan as well"
      ]
    },
    {
      "cell_type": "markdown",
      "metadata": {
        "id": "i-qwVt2BlYsy",
        "colab_type": "text"
      },
      "source": [
        "Observation The above plot show with experience and age have a positive correlation. As experience increase age also increases. Also the colors show the education level. There is gap in the mid forties of age and also more people in the under graduate level"
      ]
    },
    {
      "cell_type": "markdown",
      "metadata": {
        "id": "4_aMASTAmJ5B",
        "colab_type": "text"
      },
      "source": [
        "Observation\n",
        "\n",
        "\n",
        "\n",
        "1.  Income and CCAvg is moderately correlated.\n",
        "2.  Age and Experience is highly correlated\n",
        "\n"
      ]
    },
    {
      "cell_type": "markdown",
      "metadata": {
        "id": "ZenYbmTSmrZ5",
        "colab_type": "text"
      },
      "source": [
        "Applying models\n",
        "1. Split data into train and test"
      ]
    },
    {
      "cell_type": "code",
      "metadata": {
        "id": "2mggFg4rMKkn",
        "colab_type": "code",
        "colab": {}
      },
      "source": [
        "# Matrix of features\n",
        "X = dataset.iloc[:, [1,2,3,5,6,7,8,10,11,12,13]].values\n",
        "# Dependent variable vector\n",
        "Y = dataset.iloc[:, 9].values"
      ],
      "execution_count": 20,
      "outputs": []
    },
    {
      "cell_type": "code",
      "metadata": {
        "id": "WZMovxeYttEf",
        "colab_type": "code",
        "colab": {}
      },
      "source": [
        "# Splitting the dataset into Training set and Test set\n",
        "from sklearn.model_selection import train_test_split\n",
        "\n",
        "X_train, X_test, Y_train, Y_test = train_test_split(X, Y, test_size=0.3, random_state=0)"
      ],
      "execution_count": 21,
      "outputs": []
    },
    {
      "cell_type": "code",
      "metadata": {
        "id": "MxT3GVpmtycy",
        "colab_type": "code",
        "colab": {}
      },
      "source": [
        "# Feature Scaling (Must for PCA)\n",
        "from sklearn.preprocessing import StandardScaler\n",
        "\n",
        "sc_X = StandardScaler()\n",
        "X_train = sc_X.fit_transform(X_train)\n",
        "X_test = sc_X.transform(X_test)"
      ],
      "execution_count": 22,
      "outputs": []
    },
    {
      "cell_type": "code",
      "metadata": {
        "id": "YK4zfOi7t2nD",
        "colab_type": "code",
        "colab": {
          "base_uri": "https://localhost:8080/",
          "height": 528
        },
        "outputId": "227c2d56-200c-4052-9994-ad9a5b79f438"
      },
      "source": [
        "\n",
        "\n",
        "# Correlation with heat map\n",
        "import matplotlib.pyplot as plt\n",
        "import seaborn as sns\n",
        "corr = dataset.corr()\n",
        "sns.set_context(\"notebook\", font_scale=1.0, rc={\"lines.linewidth\": 2.5})\n",
        "plt.figure(figsize=(13,7))\n",
        "# create a mask so we only see the correlation values once\n",
        "mask = np.zeros_like(corr)\n",
        "mask[np.triu_indices_from(mask, 1)] = True\n",
        "a = sns.heatmap(corr,mask=mask, annot=True, fmt='.2f')\n",
        "rotx = a.set_xticklabels(a.get_xticklabels(), rotation=90)\n",
        "roty = a.set_yticklabels(a.get_yticklabels(), rotation=30)"
      ],
      "execution_count": 23,
      "outputs": [
        {
          "output_type": "display_data",
          "data": {
            "image/png": "[encoded data removed]",
            "text/plain": [
              "<Figure size 936x504 with 2 Axes>"
            ]
          },
          "metadata": {
            "tags": []
          }
        }
      ]
    },
    {
      "cell_type": "markdown",
      "metadata": {
        "id": "BLWj3_Dtwtun",
        "colab_type": "text"
      },
      "source": [
        "Age and Experience is highly correlated is the Observation.\n",
        "These two varibles will be of our use to train the model and make predictions."
      ]
    },
    {
      "cell_type": "code",
      "metadata": {
        "id": "h3SSpFG_xrPD",
        "colab_type": "code",
        "colab": {}
      },
      "source": [
        "# Applying PCA (Unsupervised we do not need to pass Y_train in .fit_transform method)\n",
        "\n",
        "from sklearn.decomposition import PCA\n",
        "\n",
        "#pca = PCA(n_components=None)\n",
        "pca = PCA(n_components=2)\n",
        "X_train = pca.fit_transform(X_train)\n",
        "X_test = pca.transform(X_test)\n",
        "explained_variance = pca.explained_variance_ratio_"
      ],
      "execution_count": 24,
      "outputs": []
    },
    {
      "cell_type": "code",
      "metadata": {
        "id": "vCyUILrH5niV",
        "colab_type": "code",
        "colab": {
          "base_uri": "https://localhost:8080/",
          "height": 34
        },
        "outputId": "f0656cf4-b48b-417a-e53b-ab6af18b8397"
      },
      "source": [
        "print(explained_variance)"
      ],
      "execution_count": 25,
      "outputs": [
        {
          "output_type": "stream",
          "text": [
            "[0.18395024 0.17100037]\n"
          ],
          "name": "stdout"
        }
      ]
    },
    {
      "cell_type": "markdown",
      "metadata": {
        "id": "O4SXvfjH5tH6",
        "colab_type": "text"
      },
      "source": [
        "This is just the conformation that age and experience are the two variables which we are gona use for the prdiction on the basis of statistical methods(which we already derived from heat map)"
      ]
    },
    {
      "cell_type": "code",
      "metadata": {
        "id": "kwUBl35u6EpE",
        "colab_type": "code",
        "colab": {
          "base_uri": "https://localhost:8080/",
          "height": 102
        },
        "outputId": "6d17ff9d-db9c-496d-d272-d80346127145"
      },
      "source": [
        "# Fitting Logistic Regression to the Training set\n",
        "from sklearn.linear_model import LogisticRegression\n",
        "\n",
        "classifier = LogisticRegression(random_state=0)\n",
        "classifier.fit(X_train, np.ravel(Y_train.astype(int)))"
      ],
      "execution_count": 26,
      "outputs": [
        {
          "output_type": "execute_result",
          "data": {
            "text/plain": [
              "LogisticRegression(C=1.0, class_weight=None, dual=False, fit_intercept=True,\n",
              "                   intercept_scaling=1, l1_ratio=None, max_iter=100,\n",
              "                   multi_class='auto', n_jobs=None, penalty='l2',\n",
              "                   random_state=0, solver='lbfgs', tol=0.0001, verbose=0,\n",
              "                   warm_start=False)"
            ]
          },
          "metadata": {
            "tags": []
          },
          "execution_count": 26
        }
      ]
    },
    {
      "cell_type": "code",
      "metadata": {
        "id": "OLgtUDDg6MqQ",
        "colab_type": "code",
        "colab": {}
      },
      "source": [
        "# Predicting the Test result set\n",
        "\n",
        "Y_pred = classifier.predict(X_test)\n",
        "\n",
        "# Making the Confusion Matrix\n",
        "from sklearn.metrics import confusion_matrix\n",
        "\n",
        "cm = confusion_matrix(Y_test, Y_pred)"
      ],
      "execution_count": 27,
      "outputs": []
    },
    {
      "cell_type": "code",
      "metadata": {
        "id": "wZ0tmGWz6Por",
        "colab_type": "code",
        "colab": {
          "base_uri": "https://localhost:8080/",
          "height": 51
        },
        "outputId": "c27eb8c8-6f9c-4cc2-b852-1d0fcd483501"
      },
      "source": [
        "print(cm)"
      ],
      "execution_count": 28,
      "outputs": [
        {
          "output_type": "stream",
          "text": [
            "[[1306   37]\n",
            " [ 115   34]]\n"
          ],
          "name": "stdout"
        }
      ]
    },
    {
      "cell_type": "markdown",
      "metadata": {
        "id": "c3Oqo5Sx9_8e",
        "colab_type": "text"
      },
      "source": [
        "Metrix related to performance measuring using logistic regression."
      ]
    },
    {
      "cell_type": "code",
      "metadata": {
        "id": "gb3HJ3AU6cRe",
        "colab_type": "code",
        "colab": {
          "base_uri": "https://localhost:8080/",
          "height": 34
        },
        "outputId": "711dc945-a559-4ed1-b95d-be39f8689c1a"
      },
      "source": [
        "print(1340/1492)"
      ],
      "execution_count": 29,
      "outputs": [
        {
          "output_type": "stream",
          "text": [
            "0.8981233243967829\n"
          ],
          "name": "stdout"
        }
      ]
    },
    {
      "cell_type": "markdown",
      "metadata": {
        "id": "_h2tPxI96h6G",
        "colab_type": "text"
      },
      "source": [
        "THIS IS THE FINAL RESULT WITH 89.81 % ACCURACY OF PREDICTING THE RESULTS USING THE LOGISTIC REGRATION . "
      ]
    },
    {
      "cell_type": "code",
      "metadata": {
        "id": "k8xM7mQW-2bM",
        "colab_type": "code",
        "colab": {}
      },
      "source": [
        "train_set_indep = dataset.drop(['Experience' ,'ID'] , axis = 1).drop(labels= \"PersonalLoan\" , axis = 1)\n",
        "train_set_dep = dataset[\"PersonalLoan\"]\n",
        "X = np.array(train_set_indep)\n",
        "Y = np.array(train_set_dep)\n",
        "X_Train = X[ :3500, :]\n",
        "X_Test = X[3501: , :]\n",
        "Y_Train = Y[:3500, ]\n",
        "Y_Test = Y[3501:, ]"
      ],
      "execution_count": 30,
      "outputs": []
    },
    {
      "cell_type": "code",
      "metadata": {
        "id": "ASYO_WwV-8b1",
        "colab_type": "code",
        "colab": {
          "base_uri": "https://localhost:8080/",
          "height": 34
        },
        "outputId": "987c29c5-5999-4e8f-b377-e10fa9d12a98"
      },
      "source": [
        "knn = KNeighborsClassifier(n_neighbors= 21 , weights = 'uniform', metric='euclidean')\n",
        "knn.fit(X_Train, Y_Train)    \n",
        "predicted = knn.predict(X_Test)\n",
        "from sklearn.metrics import accuracy_score\n",
        "acc = accuracy_score(Y_Test, predicted)\n",
        "print(acc)"
      ],
      "execution_count": 31,
      "outputs": [
        {
          "output_type": "stream",
          "text": [
            "0.908843537414966\n"
          ],
          "name": "stdout"
        }
      ]
    },
    {
      "cell_type": "markdown",
      "metadata": {
        "id": "Yu1nK8aN--gX",
        "colab_type": "text"
      },
      "source": [
        "ANALYSING THE MODELS PREDICTION USING KNN ALGORITHM.\n",
        "KNN ALGORITHM PROVIDES US WITH 90.88 % ACCURACY IN PREDICTION."
      ]
    },
    {
      "cell_type": "code",
      "metadata": {
        "id": "EntsU__XhlWd",
        "colab_type": "code",
        "colab": {
          "base_uri": "https://localhost:8080/",
          "height": 119
        },
        "outputId": "00da5527-ffa7-45de-c841-4632283de8ae"
      },
      "source": [
        "from sklearn.naive_bayes import GaussianNB\n",
        "from sklearn.ensemble import RandomForestClassifier\n",
        "\n",
        "dt_model=DecisionTreeClassifier(criterion = 'entropy',max_depth=3)\n",
        "dt_model.fit(X_train, Y_train)"
      ],
      "execution_count": 32,
      "outputs": [
        {
          "output_type": "execute_result",
          "data": {
            "text/plain": [
              "DecisionTreeClassifier(ccp_alpha=0.0, class_weight=None, criterion='entropy',\n",
              "                       max_depth=3, max_features=None, max_leaf_nodes=None,\n",
              "                       min_impurity_decrease=0.0, min_impurity_split=None,\n",
              "                       min_samples_leaf=1, min_samples_split=2,\n",
              "                       min_weight_fraction_leaf=0.0, presort='deprecated',\n",
              "                       random_state=None, splitter='best')"
            ]
          },
          "metadata": {
            "tags": []
          },
          "execution_count": 32
        }
      ]
    },
    {
      "cell_type": "code",
      "metadata": {
        "id": "cH0p6I4ki2io",
        "colab_type": "code",
        "colab": {
          "base_uri": "https://localhost:8080/",
          "height": 34
        },
        "outputId": "b8e92d98-8b33-4496-9e80-13ed56860ef8"
      },
      "source": [
        "dt_model.score(X_train , Y_train)"
      ],
      "execution_count": 33,
      "outputs": [
        {
          "output_type": "execute_result",
          "data": {
            "text/plain": [
              "0.9094567404426559"
            ]
          },
          "metadata": {
            "tags": []
          },
          "execution_count": 33
        }
      ]
    },
    {
      "cell_type": "markdown",
      "metadata": {
        "id": "o1Ly3rbSjYmN",
        "colab_type": "text"
      },
      "source": [
        "ANALYSING THE MODELS PREDICTION USING DECISION TREE CLASSIFIER ALGORITHM.\n",
        "DECISION TREE CLASSIFIER ALGORITHM PROVIDES US WITH 97.93 % ACCURACY IN PREDICTION."
      ]
    },
    {
      "cell_type": "code",
      "metadata": {
        "id": "YHOjKuLyi9b2",
        "colab_type": "code",
        "colab": {
          "base_uri": "https://localhost:8080/",
          "height": 34
        },
        "outputId": "20c9039c-1fce-4b1a-ddfd-c751ba892154"
      },
      "source": [
        "naive_model = GaussianNB()\n",
        "naive_model.fit(X_train, Y_train)\n",
        "\n",
        "prediction = naive_model.predict(X_train)\n",
        "naive_model.score(X_train,Y_train)"
      ],
      "execution_count": 34,
      "outputs": [
        {
          "output_type": "execute_result",
          "data": {
            "text/plain": [
              "0.8950847944811727"
            ]
          },
          "metadata": {
            "tags": []
          },
          "execution_count": 34
        }
      ]
    },
    {
      "cell_type": "markdown",
      "metadata": {
        "id": "pZYuL_27jn1a",
        "colab_type": "text"
      },
      "source": [
        "ANALYSING THE MODELS PREDICTION USING NAIVE MODEL ALGORITHM.\n",
        "NAIVE MODEL ALGORITHM PROVIDES US WITH 88.93 % ACCURACY IN PREDICTION."
      ]
    },
    {
      "cell_type": "markdown",
      "metadata": {
        "id": "dlKlyvOEj8Qq",
        "colab_type": "text"
      },
      "source": [
        "*CONCLUSION:-*\n",
        "THE BEST ALGORITHM THAT CAN BE USED BY THE BANK TO REACH IT'S\n",
        "DESIRED GOAL IS ***DECISION TREE ALGORITHM*** AS IT HAS THE MAXIMUM PREDICTION ACCURACY AMOST THE TESTED ALGORITHMS."
      ]
    },
    {
      "cell_type": "code",
      "metadata": {
        "id": "wkgNnZTuZQ5g",
        "colab_type": "code",
        "colab": {
          "base_uri": "https://localhost:8080/",
          "height": 673
        },
        "outputId": "832c8b2a-0881-4d80-9087-6691a1550576"
      },
      "source": [
        "# Visualising the Training Set results\n",
        "from matplotlib.colors import ListedColormap\n",
        "\n",
        "X_set, y_set = X_train, Y_train\n",
        "X1, X2 = np.meshgrid(np.arange(start = X_set[:, 0].min() - 1, stop = X_set[:, 0].max() + 1, step = 0.01),\n",
        "                    np.arange(start = X_set[:, 1].min() - 1, stop = X_set[:, 1].max() + 1, step = 0.01))\n",
        "\n",
        "# Building the graph contour based on classification method\n",
        "Z_train = np.array([X1.ravel(), X2.ravel()]).T\n",
        "plt.contourf(X1, X2, classifier.predict(Z_train).reshape(X1.shape),\n",
        "            alpha = 0.75, cmap = ListedColormap(('red', 'green', 'blue')))\n",
        "\n",
        "# Apply limits when outliers are present\n",
        "plt.xlim(X1.min(), X1.max())\n",
        "plt.ylim(X2.min(), X2.max())\n",
        "\n",
        "# Creating the scatter plot of the Training set results\n",
        "for i, j in enumerate(np.unique(y_set)):\n",
        "    plt.scatter(X_set[(y_set == j), 0], X_set[(y_set == j), 1],\n",
        "            c = ListedColormap(('red', 'green', 'blue'))(i), label = j)\n",
        "\n",
        "plt.title('Logistical Regression Training Set')\n",
        "plt.xlabel('PC1')\n",
        "plt.ylabel('PC2')\n",
        "# plt.savefig('logistical-regression.png')\n",
        "plt.figure()\n",
        "\n",
        "# Visualising the Test Set results\n",
        "from matplotlib.colors import ListedColormap\n",
        "\n",
        "X_set, y_set = X_test, Y_test\n",
        "X1, X2 = np.meshgrid(np.arange(start = X_set[:, 0].min() - 1, stop = X_set[:, 0].max() + 1, step = 0.01),\n",
        "                    np.arange(start = X_set[:, 1].min() - 1, stop = X_set[:, 1].max() + 1, step = 0.01))\n",
        "\n",
        "# Building the graph contour based on classification method\n",
        "Z_train = np.array([X1.ravel(), X2.ravel()]).T\n",
        "plt.contourf(X1, X2, classifier.predict(Z_train).reshape(X1.shape),\n",
        "            alpha = 0.75, cmap = ListedColormap(('red', 'green', 'blue')))\n",
        "\n",
        "# Apply limits when outliers are present\n",
        "plt.xlim(X1.min(), X1.max())\n",
        "plt.ylim(X2.min(), X2.max())\n",
        "\n",
        "# Creating the scatter plot of the Training set results\n",
        "for i, j in enumerate(np.unique(y_set)):\n",
        "    plt.scatter(X_set[(y_set == j), 0], X_set[(y_set == j), 1],\n",
        "            c = ListedColormap(('red', 'green', 'blue'))(i), label = j)\n",
        "\n",
        "plt.title('Logistical Regression Test Set')\n",
        "plt.xlabel('PC1')\n",
        "plt.ylabel('PC2')\n",
        "# plt.savefig('logistical-regression.png')\n",
        "plt.show()"
      ],
      "execution_count": 35,
      "outputs": [
        {
          "output_type": "stream",
          "text": [
            "*c* argument looks like a single numeric RGB or RGBA sequence, which should be avoided as value-mapping will have precedence in case its length matches with *x* & *y*.  Please use the *color* keyword-argument or provide a 2-D array with a single row if you intend to specify the same RGB or RGBA value for all points.\n",
            "*c* argument looks like a single numeric RGB or RGBA sequence, which should be avoided as value-mapping will have precedence in case its length matches with *x* & *y*.  Please use the *color* keyword-argument or provide a 2-D array with a single row if you intend to specify the same RGB or RGBA value for all points.\n",
            "*c* argument looks like a single numeric RGB or RGBA sequence, which should be avoided as value-mapping will have precedence in case its length matches with *x* & *y*.  Please use the *color* keyword-argument or provide a 2-D array with a single row if you intend to specify the same RGB or RGBA value for all points.\n",
            "*c* argument looks like a single numeric RGB or RGBA sequence, which should be avoided as value-mapping will have precedence in case its length matches with *x* & *y*.  Please use the *color* keyword-argument or provide a 2-D array with a single row if you intend to specify the same RGB or RGBA value for all points.\n"
          ],
          "name": "stderr"
        },
        {
          "output_type": "display_data",
          "data": {
            "image/png": "[encoded data removed]",
            "text/plain": [
              "<Figure size 432x288 with 1 Axes>"
            ]
          },
          "metadata": {
            "tags": []
          }
        },
        {
          "output_type": "display_data",
          "data": {
            "image/png": "[encoded data removed]",
            "text/plain": [
              "<Figure size 432x288 with 1 Axes>"
            ]
          },
          "metadata": {
            "tags": []
          }
        }
      ]
    }
  ]
}